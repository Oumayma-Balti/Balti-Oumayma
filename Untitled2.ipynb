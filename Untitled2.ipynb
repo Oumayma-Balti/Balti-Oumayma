{
  "nbformat": 4,
  "nbformat_minor": 0,
  "metadata": {
    "colab": {
      "name": "Untitled2.ipynb",
      "provenance": [],
      "collapsed_sections": [],
      "authorship_tag": "ABX9TyNi7SpPxrPKY0cemhrA0BgZ",
      "include_colab_link": true
    },
    "kernelspec": {
      "name": "python3",
      "display_name": "Python 3"
    }
  },
  "cells": [
    {
      "cell_type": "markdown",
      "metadata": {
        "id": "view-in-github",
        "colab_type": "text"
      },
      "source": [
        "<a href=\"https://colab.research.google.com/github/Oumayma-Balti/Balti-Oumayma/blob/master/Untitled2.ipynb\" target=\"_parent\"><img src=\"https://colab.research.google.com/assets/colab-badge.svg\" alt=\"Open In Colab\"/></a>"
      ]
    },
    {
      "cell_type": "code",
      "metadata": {
        "id": "CowKE6yyufLl",
        "colab_type": "code",
        "colab": {}
      },
      "source": [
        "import numpy as np\n",
        "from scipy.optimize import root\n",
        "from scipy.optimize import Bounds\n",
        "import scipy.stats as stats\n",
        "from scipy.optimize import minimize\n",
        "from math import *\n",
        "import matplotlib.pyplot as plt"
      ],
      "execution_count": 0,
      "outputs": []
    },
    {
      "cell_type": "code",
      "metadata": {
        "id": "5gT2KPGBuxmy",
        "colab_type": "code",
        "colab": {}
      },
      "source": [
        "Es=0\n",
        "µ=2.7010\n",
        "R_bar=0.6098\n",
        "k=1\n",
        "taux_prod=  720\n",
        "taux_rejet= 0.05\n",
        "CMP=200\n",
        "CMC= 1000\n",
        "nc=2\n",
        "Ci=25\n",
        "Cr=70\n",
        "CF=120\n",
        "z= µ + k*R_bar\n",
        "z1 =µ -k*R_bar"
      ],
      "execution_count": 0,
      "outputs": []
    },
    {
      "cell_type": "code",
      "metadata": {
        "id": "iPWQZBnwu16q",
        "colab_type": "code",
        "colab": {
          "base_uri": "https://localhost:8080/",
          "height": 52
        },
        "outputId": "c16018f1-1d82-400b-d41b-c8b7d269fd80"
      },
      "source": [
        "p_souscontr=stats.norm.cdf((z),loc=0,scale=1)-stats.norm.cdf((z1),loc=0,scale=1)\n",
        "print( str (p_souscontr))\n",
        "\n",
        "for i in range(1,600):\n",
        "  Es=Es+i*p_souscontr**i*(1-p_souscontr)\n",
        "\n",
        "print(str (Es))"
      ],
      "execution_count": 24,
      "outputs": [
        {
          "output_type": "stream",
          "text": [
            "0.017789921303964507\n",
            "0.01811213475591911\n"
          ],
          "name": "stdout"
        }
      ]
    },
    {
      "cell_type": "code",
      "metadata": {
        "id": "4SCrhG_hu2Pb",
        "colab_type": "code",
        "colab": {
          "base_uri": "https://localhost:8080/",
          "height": 141
        },
        "outputId": "be6b43ab-45f1-47bd-882c-47d0674f8aeb"
      },
      "source": [
        "print ('         Minimisation de coût total de la carte         ')\n",
        "x = np.array([1, 2, 3, 4,5,6,8,9,10])\n",
        "bounds = Bounds([1, 0,1,0,0], [100.0,1000.0,20.0,500.0,3.0])\n",
        "#x0=n, x1=m, x2=Is ,x3=P , x4=k\n",
        "\n",
        "#avec Es\n",
        "def funcobj(x):\n",
        "  return ((1/x[1]*x[2])*((CMP*(x[1]/x[3])+CMC*nc)+(Ci*x[0]*x[1]) +Cr*(taux_prod * taux_rejet *x[1]*x[2]+x[2]) +(2*CF*stats.norm.cdf((-3/sqrt(x[0])),loc=0,scale=1)*Es)))\n",
        "# sans Es\n",
        "def funcobj1(x):\n",
        "  return ((1/x[1]*x[2])*((CMP*(x[1]/x[3])+CMC*nc)+(Ci*x[0]*x[1]) +Cr*(taux_prod * taux_rejet *x[1]*x[2]+x[2]) +(2*CF*(stats.norm.cdf((-3/sqrt(x[0])),loc=0,scale=1))*taux_prod *x[1]*x[2])))\n",
        "#plt.plot( x,funcobj)plt.show()\n",
        "\n",
        "res = minimize(funcobj,[10,600,2,6,3], method='SLSQP',options={'ftol':1e-9, 'disp':True}, bounds =Bounds([1, 1,0.5,0.5,0.5],[10.0,1000.0, 20.0 , 500.0 , 3.0]))\n",
        "\n",
        "print(res.x)"
      ],
      "execution_count": 15,
      "outputs": [
        {
          "output_type": "stream",
          "text": [
            "         Minimisation de coût total de la carte         \n",
            "Optimization terminated successfully.    (Exit mode 0)\n",
            "            Current function value: 644.7175000011515\n",
            "            Iterations: 25\n",
            "            Function evaluations: 176\n",
            "            Gradient evaluations: 25\n",
            "[1.e+00 1.e+03 5.e-01 5.e+02 3.e+00]\n"
          ],
          "name": "stdout"
        }
      ]
    },
    {
      "cell_type": "code",
      "metadata": {
        "id": "od7sK1a4u23H",
        "colab_type": "code",
        "colab": {
          "base_uri": "https://localhost:8080/",
          "height": 123
        },
        "outputId": "7cff68e4-3cec-467a-ea06-2a5b6c19012d"
      },
      "source": [
        "sol = minimize(funcobj1,[10,600,2,6,3], method='SLSQP',options={'ftol':1e-9, 'disp':True}, bounds =Bounds([1, 1,0.5,0.5,0.5],[10.0,1000.0, 20.0 , 500.0 , 3.0]))\n",
        "print(sol.x)"
      ],
      "execution_count": 6,
      "outputs": [
        {
          "output_type": "stream",
          "text": [
            "Optimization terminated successfully.    (Exit mode 0)\n",
            "            Current function value: 702.03309496642\n",
            "            Iterations: 27\n",
            "            Function evaluations: 183\n",
            "            Gradient evaluations: 26\n",
            "[1.e+00 1.e+03 5.e-01 5.e+02 3.e+00]\n"
          ],
          "name": "stdout"
        }
      ]
    },
    {
      "cell_type": "code",
      "metadata": {
        "id": "yOpt52iyvbFW",
        "colab_type": "code",
        "colab": {
          "base_uri": "https://localhost:8080/",
          "height": 265
        },
        "outputId": "acabbaa7-29c6-4ca0-a046-09d1c51c4909"
      },
      "source": [
        "#ci=23\n",
        "print ('         Minimisation de coût total de la carte         ')\n",
        "x = np.array([1, 2, 3, 4,5,6,8,9,10])\n",
        "bounds = Bounds([1, 0,1,0,0], [100.0,1000.0,20.0,500.0,3.0])\n",
        "#x0=n, x1=m, x2=Is ,x3=P , x4=k\n",
        "\n",
        "#avec Es\n",
        "def funcobj(x):\n",
        "  return ((1/x[1]*x[2])*((CMP*(x[1]/x[3])+CMC*nc)+(Ci*x[0]*x[1]) +Cr*(taux_prod * taux_rejet *x[1]*x[2]+x[2]) +(2*CF*stats.norm.cdf((-3/sqrt(x[0])),loc=0,scale=1)*Es)))\n",
        "# sans Es\n",
        "def funcobj1(x):\n",
        "  return ((1/x[1]*x[2])*((CMP*(x[1]/x[3])+CMC*nc)+(Ci*x[0]*x[1]) +Cr*(taux_prod * taux_rejet *x[1]*x[2]+x[2]) +(2*CF*(stats.norm.cdf((-3/sqrt(x[0])),loc=0,scale=1))*taux_prod *x[1]*x[2])))\n",
        "#plt.plot( x,funcobj)plt.show()\n",
        "\n",
        "res = minimize(funcobj,[10,600,2,6,3], method='SLSQP',options={'ftol':1e-9, 'disp':True}, bounds =Bounds([1, 1,0.5,0.5,0.5],[10.0,1000.0, 20.0 , 500.0 , 3.0]))\n",
        "\n",
        "print(res.x)\n",
        "print('------------------------------')\n",
        "sol = minimize(funcobj1,[10,600,2,6,3], method='SLSQP',options={'ftol':1e-9, 'disp':True}, bounds =Bounds([1, 1,0.5,0.5,0.5],[10.0,1000.0, 20.0 , 500.0 , 3.0]))\n",
        "print(sol.x)"
      ],
      "execution_count": 16,
      "outputs": [
        {
          "output_type": "stream",
          "text": [
            "         Minimisation de coût total de la carte         \n",
            "Optimization terminated successfully.    (Exit mode 0)\n",
            "            Current function value: 644.7175000011515\n",
            "            Iterations: 25\n",
            "            Function evaluations: 176\n",
            "            Gradient evaluations: 25\n",
            "[1.e+00 1.e+03 5.e-01 5.e+02 3.e+00]\n",
            "------------------------------\n",
            "Optimization terminated successfully.    (Exit mode 0)\n",
            "            Current function value: 703.03309496642\n",
            "            Iterations: 29\n",
            "            Function evaluations: 175\n",
            "            Gradient evaluations: 25\n",
            "[1.e+00 1.e+03 5.e-01 5.e+02 3.e+00]\n"
          ],
          "name": "stdout"
        }
      ]
    },
    {
      "cell_type": "code",
      "metadata": {
        "id": "pCf1pcoX5LVR",
        "colab_type": "code",
        "colab": {
          "base_uri": "https://localhost:8080/",
          "height": 265
        },
        "outputId": "5f0d1756-1b74-488b-ce22-a5217f59acb4"
      },
      "source": [
        "#Ci=27\n",
        "print ('         Minimisation de coût total de la carte         ')\n",
        "x = np.array([1, 2, 3, 4,5,6,8,9,10])\n",
        "bounds = Bounds([1, 0,1,0,0], [100.0,1000.0,20.0,500.0,3.0])\n",
        "#x0=n, x1=m, x2=Is ,x3=P , x4=k\n",
        "\n",
        "#avec Es\n",
        "def funcobj(x):\n",
        "  return ((1/x[1]*x[2])*((CMP*(x[1]/x[3])+CMC*nc)+(Ci*x[0]*x[1]) +Cr*(taux_prod * taux_rejet *x[1]*x[2]+x[2]) +(2*CF*stats.norm.cdf((-3/sqrt(x[0])),loc=0,scale=1)*Es)))\n",
        "# sans Es\n",
        "def funcobj1(x):\n",
        "  return ((1/x[1]*x[2])*((CMP*(x[1]/x[3])+CMC*nc)+(Ci*x[0]*x[1]) +Cr*(taux_prod * taux_rejet *x[1]*x[2]+x[2]) +(2*CF*(stats.norm.cdf((-3/sqrt(x[0])),loc=0,scale=1))*taux_prod *x[1]*x[2])))\n",
        "#plt.plot( x,funcobj)plt.show()\n",
        "\n",
        "res = minimize(funcobj,[10,600,2,6,3], method='SLSQP',options={'ftol':1e-9, 'disp':True}, bounds =Bounds([1, 1,0.5,0.5,0.5],[10.0,1000.0, 20.0 , 500.0 , 3.0]))\n",
        "\n",
        "print(res.x)\n",
        "print('------------------------------')\n",
        "sol = minimize(funcobj1,[10,600,2,6,3], method='SLSQP',options={'ftol':1e-9, 'disp':True}, bounds =Bounds([1, 1,0.5,0.5,0.5],[10.0,1000.0, 20.0 , 500.0 , 3.0]))\n",
        "print(sol.x)\n"
      ],
      "execution_count": 17,
      "outputs": [
        {
          "output_type": "stream",
          "text": [
            "         Minimisation de coût total de la carte         \n",
            "Optimization terminated successfully.    (Exit mode 0)\n",
            "            Current function value: 644.7175000011515\n",
            "            Iterations: 25\n",
            "            Function evaluations: 176\n",
            "            Gradient evaluations: 25\n",
            "[1.e+00 1.e+03 5.e-01 5.e+02 3.e+00]\n",
            "------------------------------\n",
            "Optimization terminated successfully.    (Exit mode 0)\n",
            "            Current function value: 703.03309496642\n",
            "            Iterations: 29\n",
            "            Function evaluations: 175\n",
            "            Gradient evaluations: 25\n",
            "[1.e+00 1.e+03 5.e-01 5.e+02 3.e+00]\n"
          ],
          "name": "stdout"
        }
      ]
    },
    {
      "cell_type": "code",
      "metadata": {
        "id": "IZjE9S8z5W0x",
        "colab_type": "code",
        "colab": {
          "base_uri": "https://localhost:8080/",
          "height": 265
        },
        "outputId": "e27fedd8-2f56-4d31-ac84-00162f6001b2"
      },
      "source": [
        "#sigma -0.1\n",
        "print ('         Minimisation de coût total de la carte         ')\n",
        "x = np.array([1, 2, 3, 4,5,6,8,9,10])\n",
        "bounds = Bounds([1, 0,1,0,0], [100.0,1000.0,20.0,500.0,3.0])\n",
        "#x0=n, x1=m, x2=Is ,x3=P , x4=k\n",
        "\n",
        "#avec Es\n",
        "def funcobj(x):\n",
        "  return ((1/x[1]*x[2])*((CMP*(x[1]/x[3])+CMC*nc)+(Ci*x[0]*x[1]) +Cr*(taux_prod * taux_rejet *x[1]*x[2]+x[2]) +(2*CF*stats.norm.cdf((-3/sqrt(x[0])),loc=0,scale=1)*Es)))\n",
        "# sans Es\n",
        "def funcobj1(x):\n",
        "  return ((1/x[1]*x[2])*((CMP*(x[1]/x[3])+CMC*nc)+(Ci*x[0]*x[1]) +Cr*(taux_prod * taux_rejet *x[1]*x[2]+x[2]) +(2*CF*(stats.norm.cdf((-3/sqrt(x[0])),loc=0,scale=1))*taux_prod *x[1]*x[2])))\n",
        "#plt.plot( x,funcobj)plt.show()\n",
        "\n",
        "res = minimize(funcobj,[10,600,2,6,3], method='SLSQP',options={'ftol':1e-9, 'disp':True}, bounds =Bounds([1, 1,0.5,0.5,0.5],[10.0,1000.0, 20.0 , 500.0 , 3.0]))\n",
        "\n",
        "print(res.x)\n",
        "print('------------------------------')\n",
        "sol = minimize(funcobj1,[10,600,2,6,3], method='SLSQP',options={'ftol':1e-9, 'disp':True}, bounds =Bounds([1, 1,0.5,0.5,0.5],[10.0,1000.0, 20.0 , 500.0 , 3.0]))\n",
        "print(sol.x)"
      ],
      "execution_count": 21,
      "outputs": [
        {
          "output_type": "stream",
          "text": [
            "         Minimisation de coût total de la carte         \n",
            "Optimization terminated successfully.    (Exit mode 0)\n",
            "            Current function value: 643.7175047296402\n",
            "            Iterations: 29\n",
            "            Function evaluations: 175\n",
            "            Gradient evaluations: 25\n",
            "[1.e+00 1.e+03 5.e-01 5.e+02 3.e+00]\n",
            "------------------------------\n",
            "Optimization terminated successfully.    (Exit mode 0)\n",
            "            Current function value: 702.03309496642\n",
            "            Iterations: 27\n",
            "            Function evaluations: 183\n",
            "            Gradient evaluations: 26\n",
            "[1.e+00 1.e+03 5.e-01 5.e+02 3.e+00]\n"
          ],
          "name": "stdout"
        }
      ]
    },
    {
      "cell_type": "code",
      "metadata": {
        "id": "IC31pP5E5XOr",
        "colab_type": "code",
        "colab": {
          "base_uri": "https://localhost:8080/",
          "height": 265
        },
        "outputId": "3cc63ad1-c647-429e-d5eb-86b352284962"
      },
      "source": [
        "#sigma +0.1\n",
        "print ('         Minimisation de coût total de la carte         ')\n",
        "x = np.array([1, 2, 3, 4,5,6,8,9,10])\n",
        "bounds = Bounds([1, 0,1,0,0], [100.0,1000.0,20.0,500.0,3.0])\n",
        "#x0=n, x1=m, x2=Is ,x3=P , x4=k\n",
        "\n",
        "#avec Es\n",
        "def funcobj(x):\n",
        "  return ((1/x[1]*x[2])*((CMP*(x[1]/x[3])+CMC*nc)+(Ci*x[0]*x[1]) +Cr*(taux_prod * taux_rejet *x[1]*x[2]+x[2]) +(2*CF*stats.norm.cdf((-3/sqrt(x[0])),loc=0,scale=1)*Es)))\n",
        "# sans Es\n",
        "def funcobj1(x):\n",
        "  return ((1/x[1]*x[2])*((CMP*(x[1]/x[3])+CMC*nc)+(Ci*x[0]*x[1]) +Cr*(taux_prod * taux_rejet *x[1]*x[2]+x[2]) +(2*CF*(stats.norm.cdf((-3/sqrt(x[0])),loc=0,scale=1))*taux_prod *x[1]*x[2])))\n",
        "#plt.plot( x,funcobj)plt.show()\n",
        "\n",
        "res = minimize(funcobj,[10,600,2,6,3], method='SLSQP',options={'ftol':1e-9, 'disp':True}, bounds =Bounds([1, 1,0.5,0.5,0.5],[10.0,1000.0, 20.0 , 500.0 , 3.0]))\n",
        "\n",
        "print(res.x)\n",
        "print('------------------------------')\n",
        "sol = minimize(funcobj1,[10,600,2,6,3], method='SLSQP',options={'ftol':1e-9, 'disp':True}, bounds =Bounds([1, 1,0.5,0.5,0.5],[10.0,1000.0, 20.0 , 500.0 , 3.0]))\n",
        "print(sol.x)"
      ],
      "execution_count": 25,
      "outputs": [
        {
          "output_type": "stream",
          "text": [
            "         Minimisation de coût total de la carte         \n",
            "Optimization terminated successfully.    (Exit mode 0)\n",
            "            Current function value: 643.7175029347873\n",
            "            Iterations: 29\n",
            "            Function evaluations: 175\n",
            "            Gradient evaluations: 25\n",
            "[1.e+00 1.e+03 5.e-01 5.e+02 3.e+00]\n",
            "------------------------------\n",
            "Optimization terminated successfully.    (Exit mode 0)\n",
            "            Current function value: 702.03309496642\n",
            "            Iterations: 27\n",
            "            Function evaluations: 183\n",
            "            Gradient evaluations: 26\n",
            "[1.e+00 1.e+03 5.e-01 5.e+02 3.e+00]\n"
          ],
          "name": "stdout"
        }
      ]
    }
  ]
}