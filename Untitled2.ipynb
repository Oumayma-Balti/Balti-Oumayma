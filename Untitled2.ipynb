{
  "nbformat": 4,
  "nbformat_minor": 0,
  "metadata": {
    "colab": {
      "name": "Untitled2.ipynb",
      "provenance": [],
      "collapsed_sections": [],
      "authorship_tag": "ABX9TyNMrXouRaBs+LQ17I6oES8y",
      "include_colab_link": true
    },
    "kernelspec": {
      "name": "python3",
      "display_name": "Python 3"
    }
  },
  "cells": [
    {
      "cell_type": "markdown",
      "metadata": {
        "id": "view-in-github",
        "colab_type": "text"
      },
      "source": [
        "<a href=\"https://colab.research.google.com/github/Oumayma-Balti/Balti-Oumayma/blob/master/Untitled2.ipynb\" target=\"_parent\"><img src=\"https://colab.research.google.com/assets/colab-badge.svg\" alt=\"Open In Colab\"/></a>"
      ]
    },
    {
      "cell_type": "code",
      "metadata": {
        "id": "CowKE6yyufLl",
        "colab_type": "code",
        "colab": {}
      },
      "source": [
        "import numpy as np\n",
        "from scipy.optimize import root\n",
        "from scipy.optimize import Bounds\n",
        "import scipy.stats as stats\n",
        "from scipy.optimize import minimize\n",
        "from math import *\n",
        "from scipy.optimize import LinearConstraint\n",
        "from scipy.optimize import NonlinearConstraint\n",
        "import   time \n",
        "\n",
        "import matplotlib.pyplot as plt\n",
        "import matplotlib.pyplot as plt"
      ],
      "execution_count": 0,
      "outputs": []
    },
    {
      "cell_type": "code",
      "metadata": {
        "id": "5gT2KPGBuxmy",
        "colab_type": "code",
        "outputId": "faea2323-9951-4ba7-ba66-e61cb145be7b",
        "colab": {
          "base_uri": "https://localhost:8080/",
          "height": 134
        }
      },
      "source": [
        "Es=0\n",
        "µ=2.6010\n",
        "R_bar=0.6098\n",
        "k=0.308\n",
        "taux_prod=  720\n",
        "taux_rejet= 0.05\n",
        "CMP=200\n",
        "CMC=1200\n",
        "nc=2\n",
        "Ci=5\n",
        "Cr=5\n",
        "CF=120\n",
        "print ('         Minimisation de coût total de la carte         ')\n",
        "\n",
        "\n",
        "\n",
        "bounds = Bounds([1.0, 0.0,0.1,0.0,0.0], [10.0,1000.0,20.0,500.0,3.0])\n",
        "#x0=n, x1=m, x2=Is ,x3=P , x4=k\n",
        "\n",
        "def funcobj(x):\n",
        "  return ((1/x[1]*x[2])*((CMP*(x[1]/x[3])+CMC*nc)+(Ci*x[0]*x[1]) +Cr*(taux_prod * taux_rejet *x[2]*x[1]+x[2]*taux_prod) +(2*CF*(stats.norm.cdf((-3/(sqrt(x[0]))),loc=0,scale=1))*(sum ( [(i*( (stats.norm.cdf(( µ + x[4]*R_bar),loc=0,scale=1)-stats.norm.cdf(( µ - x[4]*R_bar),loc=0,scale=1)) **i)*(1- (stats.norm.cdf(( µ + x[4]*R_bar),loc=0,scale=1)-stats.norm.cdf(( µ - x[4]*R_bar),loc=0,scale=1)))) for i in range(0,int(x[1]) )  ] ) ))))\n",
        "\n",
        "\n",
        "res = minimize(funcobj,[5,600,11.5,300,0.30800], method='SLSQP',options={'ftol':1e-9, 'disp':True}, bounds =Bounds([5, 5,0.25,1,0.0001],[20.0,1000, 20.0, 500 , 5.0000]))\n",
        "\n",
        "print(res.x)\n",
        "\n"
      ],
      "execution_count": 18,
      "outputs": [
        {
          "output_type": "stream",
          "text": [
            "         Minimisation de coût total de la carte         \n",
            "Optimization terminated successfully.    (Exit mode 0)\n",
            "            Current function value: 18.425000008908253\n",
            "            Iterations: 22\n",
            "            Function evaluations: 154\n",
            "            Gradient evaluations: 22\n",
            "[5.0e+00 1.0e+03 2.5e-01 5.0e+02 1.0e-04]\n"
          ],
          "name": "stdout"
        }
      ]
    },
    {
      "cell_type": "code",
      "metadata": {
        "id": "4SCrhG_hu2Pb",
        "colab_type": "code",
        "colab": {}
      },
      "source": [
        "#print ('         Minimisation de coût total de la carte         ')\n",
        "#def cons_f(x):\n",
        " #   return ([stats.norm.cdf(( µ + x[4]*R_bar),loc=0,scale=1)-stats.norm.cdf(( µ - x[4]*R_bar),loc=0,scale=1)])\n",
        "\n",
        "\n",
        "\n",
        "#nonlinear_constraint = NonlinearConstraint(cons_f,0,1)\n",
        "\n",
        "#bounds = Bounds([1.0, 0.0,0.1,0.0,0.0], [10.0,1000.0,20.0,500.0,3.0])\n",
        "#x0=n, x1=m, x2=Is ,x3=P , x4=k\n",
        "12\n",
        "  #return ((1/x[1]*x[2])*((CMP*(x[1]/x[3])+CMC*nc)+\n",
        "                        # (Ci*x[0]*x[1]) +Cr*(taux_prod * taux_rejet *x[1]*x[2]+x[2]) \n",
        "                         #+(2*CF*stats.norm.cdf((-3/sqrt(x[0])),loc=0,scale=1)*(sum ( [ (i*(p_souscontr**i)*(1-p_souscontr)) for i in range(0,int(x[2]) )] \n",
        "                          #                                                          ) ))))\n",
        "\n",
        "\n",
        "#res = minimize(funcobj,[10,600,2.0,6,0.30800], method='SLSQP',constraints=[nonlinear_constraint],options={'ftol':1e-9, 'disp':True}, bounds =Bounds([1, 1,0.25,0.5,0.5],[10.0,1000.0, 20.0 , 500.0 , 3.0000\"]))\n",
        "\n",
        "#print(res.x)\n"
      ],
      "execution_count": 0,
      "outputs": []
    },
    {
      "cell_type": "code",
      "metadata": {
        "id": "jydSOpIoR38Q",
        "colab_type": "code",
        "outputId": "67b8197d-6d17-4f65-9bac-c6a478936cbe",
        "colab": {
          "base_uri": "https://localhost:8080/",
          "height": 139
        }
      },
      "source": [
        "print ('         Minimisation de coût total de la carte         ')\n",
        "\n",
        "\n",
        "\n",
        "bounds = Bounds([1.0, 0.0,0.1,0.0,0.0], [10.0,1000.0,20.0,500.0,3.0])\n",
        "#x0=n, x1=m, x2=Is ,x3=P , x4=k\n",
        "\n",
        "def funcobj(x):\n",
        "  return ((1/x[1]*x[2])*((CMP*(x[1]/x[3])+CMC*nc)+(Ci*x[0]*x[1]) +Cr*(taux_prod * taux_rejet *x[2]*x[1]+x[2]*taux_prod) +(2*CF*(stats.norm.cdf((-3/(sqrt(x[0]))),loc=0,scale=1))*(sum ( [(i*( (stats.norm.cdf(( µ + x[4]*R_bar),loc=0,scale=1)-stats.norm.cdf(( µ - x[4]*R_bar),loc=0,scale=1)) **i)*(1- (stats.norm.cdf(( µ + x[4]*R_bar),loc=0,scale=1)-stats.norm.cdf(( µ - x[4]*R_bar),loc=0,scale=1)))) for i in range(0,int(x[1]) )  ] ) ))))\n",
        "\n",
        "\n",
        "res = minimize(funcobj,[10,600,0.25,300,0.30800], method='SLSQP',options={'ftol':1e-9, 'disp':True}, bounds =Bounds([1, 1,0.25,0,0.0001],[10.0,1000, 20.0, 500 , 3.0000]))\n",
        "\n",
        "print(res.x)\n"
      ],
      "execution_count": 0,
      "outputs": [
        {
          "output_type": "stream",
          "text": [
            "         Minimisation de coût total de la carte         \n",
            "Optimization terminated successfully.    (Exit mode 0)\n",
            "            Current function value: 163.0000000001338\n",
            "            Iterations: 29\n",
            "            Function evaluations: 182\n",
            "            Gradient evaluations: 26\n",
            "[1.0e+00 1.0e+03 2.5e-01 5.0e+02 1.0e-04]\n"
          ],
          "name": "stdout"
        }
      ]
    }
  ]
}